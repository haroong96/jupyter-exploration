{
 "cells": [
  {
   "cell_type": "markdown",
   "id": "3cd49e68",
   "metadata": {},
   "source": [
    "In jupyter Notebook cell is where we write a code and run them.\n",
    "in case we have any error with the cells we can run each cell individually with out running whole script."
   ]
  },
  {
   "cell_type": "markdown",
   "id": "2ff98fe9",
   "metadata": {},
   "source": [
    "my First markdown cell in jupyter notebook"
   ]
  },
  {
   "cell_type": "code",
   "execution_count": 2,
   "id": "48e3b39b",
   "metadata": {},
   "outputs": [
    {
     "name": "stdout",
     "output_type": "stream",
     "text": [
      "Hello World\n"
     ]
    }
   ],
   "source": [
    "print('Hello World')"
   ]
  }
 ],
 "metadata": {
  "kernelspec": {
   "display_name": "Python 3 (ipykernel)",
   "language": "python",
   "name": "python3"
  },
  "language_info": {
   "codemirror_mode": {
    "name": "ipython",
    "version": 3
   },
   "file_extension": ".py",
   "mimetype": "text/x-python",
   "name": "python",
   "nbconvert_exporter": "python",
   "pygments_lexer": "ipython3",
   "version": "3.11.5"
  }
 },
 "nbformat": 4,
 "nbformat_minor": 5
}
